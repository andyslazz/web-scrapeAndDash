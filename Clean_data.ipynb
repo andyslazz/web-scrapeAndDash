{
 "cells": [
  {
   "cell_type": "code",
   "execution_count": 2,
   "metadata": {},
   "outputs": [],
   "source": [
    "import pandas as pd\n",
    "\n",
    "# โหลดไฟล์ Excel\n",
    "df = pd.read_excel(\"/Users/andy/Documents/CodeY4/web-scrape/programs_ai_computer.xlsx\", sheet_name=\"Sheet1\")\n"
   ]
  },
  {
   "cell_type": "code",
   "execution_count": 3,
   "metadata": {},
   "outputs": [
    {
     "name": "stdout",
     "output_type": "stream",
     "text": [
      "                 คำค้นหา                                     มหาวิทยาลัย  \\\n",
      "0  วิศวกรรมปัญญาประดิษฐ์                        มหาวิทยาลัยสงขลานครินทร์   \n",
      "1  วิศวกรรมปัญญาประดิษฐ์                        มหาวิทยาลัยสงขลานครินทร์   \n",
      "2  วิศวกรรมปัญญาประดิษฐ์           มหาวิทยาลัยเทคโนโลยีพระจอมเกล้าธนบุรี   \n",
      "3  วิศวกรรมปัญญาประดิษฐ์  สถาบันเทคโนโลยีพระจอมเกล้าเจ้าคุณทหารลาดกระบัง   \n",
      "4  วิศวกรรมปัญญาประดิษฐ์                          มหาวิทยาลัยอุบลราชธานี   \n",
      "\n",
      "                                               ลิงก์  \\\n",
      "0  https://course.mytcas.com/programs/10100101300...   \n",
      "1  https://course.mytcas.com/programs/10100329303...   \n",
      "2  https://course.mytcas.com/programs/10140136303...   \n",
      "3  https://course.mytcas.com/programs/10160101303...   \n",
      "4  https://course.mytcas.com/programs/10180113303...   \n",
      "\n",
      "                                        ชื่อหลักสูตร  \\\n",
      "0                        วศ.บ. วิศวกรรมปัญญาประดิษฐ์   \n",
      "1         วศ.บ. วิศวกรรมปัญญาประดิษฐ์และระบบอัจฉริยะ   \n",
      "2  หลักสูตรวิศวกรรมศาสตรบัณฑิต สาขาวิชาวิศวกรรมระ...   \n",
      "3  วศ.บ. วิศวกรรมปัญญาประดิษฐ์และการเป็นผู้ประกอบ...   \n",
      "4    วศ.บ.สาขาวิชาวิศวกรรมปัญญาประดิษฐ์และการสั่งการ   \n",
      "\n",
      "                              ชื่อหลักสูตรภาษาอังกฤษ           ประเภทหลักสูตร  \\\n",
      "0  Bachelor of Engineering Program in Artificial ...             ภาษาไทย ปกติ   \n",
      "1  Bachelor of Engineering Programe in Artificial...             ภาษาไทย ปกติ   \n",
      "2  Bachelor of Engineering Program in Intelligenc...             ภาษาไทย ปกติ   \n",
      "3  B.Eng. Ai Engineering and Entrepreneurship (In...  Joint Degree - นานาชาติ   \n",
      "4  Bachelor of Engineering Program in Artificial ...             ภาษาไทย ปกติ   \n",
      "\n",
      "       วิทยาเขต                                         ค่าใช้จ่าย  \\\n",
      "0       หาดใหญ่             อัตราค่าเล่าเรียน 28,000.-/ภาคการศึกษา   \n",
      "1        ภูเก็ต  อัตราค่าเล่าเรียน 38,000 บาทต่อภาคการศึกษา (เร...   \n",
      "2         บางมด             https://kmutt.me/TUITION-FEES-BS-KMUTT   \n",
      "3     ลาดกระบัง                             175,000 ต่อภาคการศึกษา   \n",
      "4  วิทยาเขตหลัก  อัตราค่าเล่าเรียน  28,000 ต่อภาคการศึกษา หรือ ...   \n",
      "\n",
      "   Unnamed: 8                                           สาขาวิชา  \n",
      "0         NaN                                                NaN  \n",
      "1         NaN                                                NaN  \n",
      "2         NaN  วิศวกรรมระบบอัจฉริยะ - วศ.บ 4 ปี (พื้นที่การศึ...  \n",
      "3         NaN                                                NaN  \n",
      "4         NaN                                                NaN  \n"
     ]
    }
   ],
   "source": [
    "# ลบคอลัมน์ที่ไม่ต้องการ\n",
    "columns_to_drop = [\n",
    "    \"รอบ 1 Portfolio\", \"รอบ 2 Quota\", \"รอบ 3 Admission\", \"รอบ 4 Direct Admission\",\n",
    "    \"อัตราการสำเร็จการศึกษา\", \"อัตราการได้งานทำ\", \"ค่ามัธยฐานเงินเดือน\"\n",
    "]\n",
    "df_trimmed = df.drop(columns=columns_to_drop)\n",
    "\n",
    "# ตรวจสอบผลลัพธ์\n",
    "print(df_trimmed.head())"
   ]
  },
  {
   "cell_type": "code",
   "execution_count": 8,
   "metadata": {},
   "outputs": [
    {
     "data": {
      "text/plain": [
       "['คำค้นหา',\n",
       " 'มหาวิทยาลัย',\n",
       " 'ลิงก์',\n",
       " 'ชื่อหลักสูตร',\n",
       " 'ชื่อหลักสูตรภาษาอังกฤษ',\n",
       " 'ประเภทหลักสูตร',\n",
       " 'วิทยาเขต',\n",
       " 'ค่าใช้จ่าย',\n",
       " 'สาขาวิชา']"
      ]
     },
     "execution_count": 8,
     "metadata": {},
     "output_type": "execute_result"
    }
   ],
   "source": [
    "# ลบคอลัมน์ที่ไม่ต้องการ\n",
    "columns_to_drop = [\n",
    "    \"รอบ 1 Portfolio\", \"รอบ 2 Quota\", \"รอบ 3 Admission\", \"รอบ 4 Direct Admission\",\n",
    "    \"อัตราการสำเร็จการศึกษา\", \"อัตราการได้งานทำ\", \"ค่ามัธยฐานเงินเดือน\"\n",
    "]\n",
    "\n",
    "df_trimmed = df.drop(columns=columns_to_drop)\n",
    "df_trimmed = df_trimmed.loc[:, ~df_trimmed.columns.str.startswith('Unnamed')]\n",
    "\n",
    "# แสดงคอลัมน์ที่เหลือหลังลบ\n",
    "df_trimmed.columns.tolist()\n"
   ]
  }
 ],
 "metadata": {
  "kernelspec": {
   "display_name": ".venv",
   "language": "python",
   "name": "python3"
  },
  "language_info": {
   "codemirror_mode": {
    "name": "ipython",
    "version": 3
   },
   "file_extension": ".py",
   "mimetype": "text/x-python",
   "name": "python",
   "nbconvert_exporter": "python",
   "pygments_lexer": "ipython3",
   "version": "3.8.10"
  }
 },
 "nbformat": 4,
 "nbformat_minor": 2
}
